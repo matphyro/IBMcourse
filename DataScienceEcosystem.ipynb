{
 "cells": [
  {
   "cell_type": "markdown",
   "id": "d8f6ca0d-7796-49ae-8b6e-86331e02bd7d",
   "metadata": {},
   "source": [
    "# Data Science Tools and Ecosystem"
   ]
  },
  {
   "cell_type": "markdown",
   "id": "6c51a356-0d1f-4530-b471-eb978f155236",
   "metadata": {},
   "source": [
    "## Introduction\n",
    "\n",
    "In this notebook, Data Science Tools and Ecosystem are summarized."
   ]
  },
  {
   "cell_type": "markdown",
   "id": "4dda0505-f626-4a85-a0cf-87a3102e9fc9",
   "metadata": {},
   "source": [
    "## **Objectives:**\r\n",
    "\r\n",
    "- List popular languages for Data Science\r\n",
    "- Introduce key data science libraries and tools\r\n",
    "- Understand basic arithmetic operations in Python\r\n",
    "- Convert minutes to hours using simple expressions\r\n",
    "- Learn the basics of data science development environments\r\n"
   ]
  },
  {
   "cell_type": "markdown",
   "id": "175573a8-8061-459f-967c-a15a7d245dbd",
   "metadata": {},
   "source": [
    "## Data Science Languages\n",
    "\n",
    "Some of the popular languages that Data Scientists use are:\n",
    "\n",
    "1. Python\n",
    "2. R\n",
    "3. SQL"
   ]
  },
  {
   "cell_type": "markdown",
   "id": "f31dc984-3d31-4f06-ace0-8741a8a504b9",
   "metadata": {},
   "source": [
    "## Data Science Libraries\n",
    "\n",
    "Some of the commonly used libraries used by Data Scientists include:\n",
    "\n",
    "1. Pandas  \n",
    "2. NumPy  \n",
    "3. Matplotlib  \n",
    "4. Scikit-learn  \n",
    "5. TensorFlowing applications.\r\n"
   ]
  },
  {
   "cell_type": "markdown",
   "id": "ccac7f4d-1a29-451c-80d7-6351371b6f3e",
   "metadata": {},
   "source": [
    "## Data Science Tools\n",
    "\n",
    "| Data Science Tools |\n",
    "|--------------------|\n",
    "| Jupyter Notebook   |\n",
    "| RStudio            |\n",
    "| Hadoop    |"
   ]
  },
  {
   "cell_type": "markdown",
   "id": "99c5bac4-74e1-4670-840a-7add76c23a65",
   "metadata": {},
   "source": [
    "### Below are a few examples of evaluating arithmetic expressions in Python.\r\n"
   ]
  },
  {
   "cell_type": "code",
   "execution_count": 9,
   "id": "6b333d63-b271-4af1-9605-e1292e64c82b",
   "metadata": {},
   "outputs": [
    {
     "data": {
      "text/plain": [
       "17"
      ]
     },
     "execution_count": 9,
     "metadata": {},
     "output_type": "execute_result"
    }
   ],
   "source": [
    "# This is a simple arithmetic expression to multiply then add integers\n",
    "result = (3 * 4) + 5\n",
    "result"
   ]
  },
  {
   "cell_type": "code",
   "execution_count": 11,
   "id": "99d0c0de-3117-495b-bbfa-b9dab5e38c54",
   "metadata": {},
   "outputs": [
    {
     "data": {
      "text/plain": [
       "3.3333333333333335"
      ]
     },
     "execution_count": 11,
     "metadata": {},
     "output_type": "execute_result"
    }
   ],
   "source": [
    "# This will convert 200 minutes to hours by dividing by 60\n",
    "minutes = 200\n",
    "hours = minutes / 60\n",
    "hours"
   ]
  },
  {
   "cell_type": "markdown",
   "id": "5955440b-860c-4e77-a742-4f4dea83e985",
   "metadata": {},
   "source": [
    "## Author\n",
    "\n",
    "Mateo Jiménez Castaño\n"
   ]
  },
  {
   "cell_type": "code",
   "execution_count": null,
   "id": "4e26729d-bf0f-4bf8-b0a1-72cbd5165548",
   "metadata": {},
   "outputs": [],
   "source": []
  }
 ],
 "metadata": {
  "kernelspec": {
   "display_name": "anaconda-2024.02-py310",
   "language": "python",
   "name": "conda-env-anaconda-2024.02-py310-py"
  },
  "language_info": {
   "codemirror_mode": {
    "name": "ipython",
    "version": 3
   },
   "file_extension": ".py",
   "mimetype": "text/x-python",
   "name": "python",
   "nbconvert_exporter": "python",
   "pygments_lexer": "ipython3",
   "version": "3.10.14"
  }
 },
 "nbformat": 4,
 "nbformat_minor": 5
}
